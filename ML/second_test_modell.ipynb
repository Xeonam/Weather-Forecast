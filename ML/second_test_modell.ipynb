{
 "cells": [
  {
   "cell_type": "markdown",
   "id": "09853e17-cfc0-42ee-91a9-452e5c00ffaf",
   "metadata": {},
   "source": [
    "A háló megalkotásához szükséges importálások"
   ]
  },
  {
   "cell_type": "code",
   "execution_count": null,
   "id": "d711a32a-bd2f-4465-8fcc-9557080f6560",
   "metadata": {},
   "outputs": [],
   "source": [
    "import tensorflow as tf\n",
    "import pandas as pd\n",
    "from sklearn.model_selection import train_test_split\n",
    "from sklearn.preprocessing import StandardScaler\n",
    "from keras.callbacks import CSVLogger\n",
    "import numpy as np"
   ]
  },
  {
   "cell_type": "markdown",
   "id": "3b81a319-4bf8-4555-9b78-3aaed2c7c59a",
   "metadata": {},
   "source": [
    "Adatok beolvasása:"
   ]
  },
  {
   "cell_type": "code",
   "execution_count": null,
   "id": "584a309f-149f-40a3-9408-d9a0f1d35c79",
   "metadata": {},
   "outputs": [],
   "source": [
    "data = pd.read_csv('BP_d.csv', delimiter=';')\n",
    "    \n",
    "data_use = data[ [\"datum\", \"d_ta\", \"d_tx\", \"d_tn\"]]\n",
    "data_use_train = data_use[data_use[\"datum\"] < \"1970-01-01\"]\n",
    "data_use_test = data_use[data_use[\"datum\"] >= \"1970-01-01\"]\n",
    "\n",
    "data_use_train = data_use_train.drop(columns='datum')\n",
    "data_use_test = data_use_test.drop(columns='datum')"
   ]
  },
  {
   "cell_type": "markdown",
   "id": "1da3c9df-b3ef-42d2-a05f-d58e363f21cd",
   "metadata": {},
   "source": [
    "Adatok felkészítése a tanításra:"
   ]
  },
  {
   "cell_type": "code",
   "execution_count": null,
   "id": "3d876d35-a20f-41a9-b25f-6dbd9ae8ec6d",
   "metadata": {},
   "outputs": [],
   "source": [
    "x_train = data_use_train.iloc[1: , :]\n",
    "y_train = data_use_train[[\"d_ta\"]]\n",
    "y_train = y_train.iloc[1: , :]\n",
    "    \n",
    "y_train =y_train.to_numpy()\n",
    "x_train = x_train.to_numpy()"
   ]
  },
  {
   "cell_type": "markdown",
   "id": "9fb73523-f682-4753-8bba-dd64333cc6eb",
   "metadata": {},
   "source": [
    "A modell előkészítése:"
   ]
  },
  {
   "cell_type": "code",
   "execution_count": null,
   "id": "8d05fa74-a3ff-409f-ba68-4615d6603f87",
   "metadata": {},
   "outputs": [],
   "source": [
    "HIST = 10\n",
    "func = 'tanh'\n",
    "dropout = 0.3\n",
    "epoch = 30\n",
    "\n",
    "train_x=(np.array([x_train[i:i+HIST] for i in range(len(x_train)-HIST)])-8)/40\n",
    "train_y=(np.array([x_train[i+HIST] for i in range(len(x_train)-HIST)])-8)/40"
   ]
  },
  {
   "cell_type": "markdown",
   "id": "aba120f4-072a-49db-b4e1-c67fb1529bd0",
   "metadata": {},
   "source": [
    "Modell létrehozása és tanítása:"
   ]
  },
  {
   "cell_type": "code",
   "execution_count": null,
   "id": "367257b8-63a4-4326-afed-fc1abd222d77",
   "metadata": {},
   "outputs": [],
   "source": [
    "model = tf.keras.models.Sequential([\n",
    "      tf.keras.layers.Flatten(input_shape=(HIST, 3)),\n",
    "      tf.keras.layers.Dense(100, activation= func),\n",
    "      tf.keras.layers.Dense(50, activation= func),\n",
    "      tf.keras.layers.Dense(3, activation= func)\n",
    "])\n",
    "    \n",
    "    \n",
    "model.compile(optimizer='adam', loss='mean_squared_error', metrics=['accuracy'])\n",
    "model.fit(train_x, train_y, epochs=epoch,  callbacks=[csv_logger])"
   ]
  },
  {
   "cell_type": "markdown",
   "id": "06b8227d-139f-4841-825f-0e45709e61a4",
   "metadata": {},
   "source": [
    "Modell mentése:"
   ]
  },
  {
   "cell_type": "code",
   "execution_count": null,
   "id": "fa5c7fa1-e6e9-48d3-ae75-f86c92663051",
   "metadata": {},
   "outputs": [],
   "source": [
    "model.save(second_test_modell + \".h5\")"
   ]
  }
 ],
 "metadata": {
  "kernelspec": {
   "display_name": "Python 3 (ipykernel)",
   "language": "python",
   "name": "python3"
  },
  "language_info": {
   "codemirror_mode": {
    "name": "ipython",
    "version": 3
   },
   "file_extension": ".py",
   "mimetype": "text/x-python",
   "name": "python",
   "nbconvert_exporter": "python",
   "pygments_lexer": "ipython3",
   "version": "3.11.5"
  }
 },
 "nbformat": 4,
 "nbformat_minor": 5
}
